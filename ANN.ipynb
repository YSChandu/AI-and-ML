{
 "cells": [
  {
   "cell_type": "code",
   "execution_count": 1,
   "id": "2d5c21b9-4388-413e-a658-b491a8d49953",
   "metadata": {},
   "outputs": [],
   "source": [
    "import numpy as np\n",
    "import pandas as pd\n",
    "import tensorflow as tf"
   ]
  },
  {
   "cell_type": "code",
   "execution_count": 2,
   "id": "46cfc5a6-3967-4d51-b3c6-7ab740dd42c1",
   "metadata": {},
   "outputs": [
    {
     "data": {
      "text/plain": [
       "'2.10.0'"
      ]
     },
     "execution_count": 2,
     "metadata": {},
     "output_type": "execute_result"
    }
   ],
   "source": [
    "tf.__version__"
   ]
  },
  {
   "cell_type": "code",
   "execution_count": 3,
   "id": "f101bd27-14a6-46ba-bacf-8ca7f2ae93f0",
   "metadata": {},
   "outputs": [],
   "source": [
    "dataset=pd.read_csv(\"D:\\Courses\\Ml_AtoZ\\Machine Learning-A-Z-Codes-Datasets\\Machine Learning A-Z (Codes and Datasets)\\Part 8 - Deep Learning\\Section 39 - Artificial Neural Networks (ANN)\\Python\\Churn_Modelling.csv\")"
   ]
  },
  {
   "cell_type": "code",
   "execution_count": 4,
   "id": "8f4c0f6f-3157-46dd-a944-169fd951bd4c",
   "metadata": {},
   "outputs": [],
   "source": [
    "x=dataset.iloc[:,3:-1].values\n",
    "y=dataset.iloc[:,-1].values"
   ]
  },
  {
   "cell_type": "code",
   "execution_count": 5,
   "id": "904d667a-2139-4ec5-adcb-03b6fe9da59e",
   "metadata": {},
   "outputs": [
    {
     "name": "stdout",
     "output_type": "stream",
     "text": [
      "[[619 'France' 'Female' ... 1 1 101348.88]\n",
      " [608 'Spain' 'Female' ... 0 1 112542.58]\n",
      " [502 'France' 'Female' ... 1 0 113931.57]\n",
      " ...\n",
      " [709 'France' 'Female' ... 0 1 42085.58]\n",
      " [772 'Germany' 'Male' ... 1 0 92888.52]\n",
      " [792 'France' 'Female' ... 1 0 38190.78]]\n"
     ]
    }
   ],
   "source": [
    "print(x)"
   ]
  },
  {
   "cell_type": "code",
   "execution_count": 6,
   "id": "58bcb796-5001-4178-b424-69a632322a9f",
   "metadata": {},
   "outputs": [
    {
     "name": "stdout",
     "output_type": "stream",
     "text": [
      "[1 0 1 ... 1 1 0]\n"
     ]
    }
   ],
   "source": [
    "print(y)"
   ]
  },
  {
   "cell_type": "code",
   "execution_count": 7,
   "id": "5879d656-b55b-40ed-b52c-71298f80fc61",
   "metadata": {},
   "outputs": [],
   "source": [
    "# Encoding the categorical data\n",
    "from sklearn.preprocessing import LabelEncoder\n",
    "le=LabelEncoder()\n",
    "x[:,2]=le.fit_transform(x[:,2])"
   ]
  },
  {
   "cell_type": "code",
   "execution_count": 8,
   "id": "1502202e-e928-4bab-9fd0-467363fa1832",
   "metadata": {},
   "outputs": [
    {
     "name": "stdout",
     "output_type": "stream",
     "text": [
      "[[619 'France' 0 ... 1 1 101348.88]\n",
      " [608 'Spain' 0 ... 0 1 112542.58]\n",
      " [502 'France' 0 ... 1 0 113931.57]\n",
      " ...\n",
      " [709 'France' 0 ... 0 1 42085.58]\n",
      " [772 'Germany' 1 ... 1 0 92888.52]\n",
      " [792 'France' 0 ... 1 0 38190.78]]\n"
     ]
    }
   ],
   "source": [
    "print(x)"
   ]
  },
  {
   "cell_type": "code",
   "execution_count": 9,
   "id": "5da36b2b-925c-46dc-8fce-5c8b41c55467",
   "metadata": {},
   "outputs": [],
   "source": [
    "#  Onehotencoding\n",
    "from sklearn.compose import ColumnTransformer\n",
    "from sklearn.preprocessing import OneHotEncoder\n",
    "ct = ColumnTransformer(transformers=[('encoder',OneHotEncoder(),[1])],remainder='passthrough')\n",
    "x=np.array(ct.fit_transform(x))"
   ]
  },
  {
   "cell_type": "code",
   "execution_count": 10,
   "id": "c22e2645-f7c8-44c0-979f-7ecc9a898bfc",
   "metadata": {},
   "outputs": [
    {
     "name": "stdout",
     "output_type": "stream",
     "text": [
      "[[1.0 0.0 0.0 ... 1 1 101348.88]\n",
      " [0.0 0.0 1.0 ... 0 1 112542.58]\n",
      " [1.0 0.0 0.0 ... 1 0 113931.57]\n",
      " ...\n",
      " [1.0 0.0 0.0 ... 0 1 42085.58]\n",
      " [0.0 1.0 0.0 ... 1 0 92888.52]\n",
      " [1.0 0.0 0.0 ... 1 0 38190.78]]\n"
     ]
    }
   ],
   "source": [
    "print(x)"
   ]
  },
  {
   "cell_type": "code",
   "execution_count": 11,
   "id": "b36a316a-bfc0-40ae-9120-1af826bfa5f9",
   "metadata": {},
   "outputs": [],
   "source": [
    "from sklearn.model_selection import train_test_split\n",
    "x_train,x_test,y_train,y_test=train_test_split(x,y,test_size=0.2,random_state=0)"
   ]
  },
  {
   "cell_type": "code",
   "execution_count": 12,
   "id": "e279235d-e57a-4a4b-9c42-c80d1fa94eb4",
   "metadata": {},
   "outputs": [],
   "source": [
    "from sklearn.preprocessing import StandardScaler\n",
    "sc = StandardScaler()\n",
    "x_train = sc.fit_transform(x_train)\n",
    "x_test = sc.transform(x_test)"
   ]
  },
  {
   "cell_type": "code",
   "execution_count": 28,
   "id": "ac508cf6-5d67-4b8b-ad31-5b20176592cd",
   "metadata": {},
   "outputs": [],
   "source": [
    "# Building the ANN\n",
    "ann = tf.keras.models.Sequential()\n",
    "ann.add(tf.keras.layers.Dense(units=6,activation='relu'))\n",
    "ann.add(tf.keras.layers.Dense(units=6,activation='relu'))\n",
    "ann.add(tf.keras.layers.Dense(units=6,activation='relu'))\n",
    "ann.add(tf.keras.layers.Dense(units=1,activation='sigmoid'))"
   ]
  },
  {
   "cell_type": "code",
   "execution_count": 29,
   "id": "dcf63b20-9a4a-49ad-9940-a6c7e48324fc",
   "metadata": {},
   "outputs": [
    {
     "data": {
      "text/plain": [
       "\u001b[1;31mSignature:\u001b[0m\n",
       "\u001b[0mann\u001b[0m\u001b[1;33m.\u001b[0m\u001b[0mcompile\u001b[0m\u001b[1;33m(\u001b[0m\u001b[1;33m\n",
       "\u001b[0m    \u001b[0moptimizer\u001b[0m\u001b[1;33m=\u001b[0m\u001b[1;34m'rmsprop'\u001b[0m\u001b[1;33m,\u001b[0m\u001b[1;33m\n",
       "\u001b[0m    \u001b[0mloss\u001b[0m\u001b[1;33m=\u001b[0m\u001b[1;32mNone\u001b[0m\u001b[1;33m,\u001b[0m\u001b[1;33m\n",
       "\u001b[0m    \u001b[0mmetrics\u001b[0m\u001b[1;33m=\u001b[0m\u001b[1;32mNone\u001b[0m\u001b[1;33m,\u001b[0m\u001b[1;33m\n",
       "\u001b[0m    \u001b[0mloss_weights\u001b[0m\u001b[1;33m=\u001b[0m\u001b[1;32mNone\u001b[0m\u001b[1;33m,\u001b[0m\u001b[1;33m\n",
       "\u001b[0m    \u001b[0mweighted_metrics\u001b[0m\u001b[1;33m=\u001b[0m\u001b[1;32mNone\u001b[0m\u001b[1;33m,\u001b[0m\u001b[1;33m\n",
       "\u001b[0m    \u001b[0mrun_eagerly\u001b[0m\u001b[1;33m=\u001b[0m\u001b[1;32mNone\u001b[0m\u001b[1;33m,\u001b[0m\u001b[1;33m\n",
       "\u001b[0m    \u001b[0msteps_per_execution\u001b[0m\u001b[1;33m=\u001b[0m\u001b[1;32mNone\u001b[0m\u001b[1;33m,\u001b[0m\u001b[1;33m\n",
       "\u001b[0m    \u001b[0mjit_compile\u001b[0m\u001b[1;33m=\u001b[0m\u001b[1;32mNone\u001b[0m\u001b[1;33m,\u001b[0m\u001b[1;33m\n",
       "\u001b[0m    \u001b[1;33m**\u001b[0m\u001b[0mkwargs\u001b[0m\u001b[1;33m,\u001b[0m\u001b[1;33m\n",
       "\u001b[0m\u001b[1;33m)\u001b[0m\u001b[1;33m\u001b[0m\u001b[1;33m\u001b[0m\u001b[0m\n",
       "\u001b[1;31mDocstring:\u001b[0m\n",
       "Configures the model for training.\n",
       "\n",
       "Example:\n",
       "\n",
       "```python\n",
       "model.compile(optimizer=tf.keras.optimizers.Adam(learning_rate=1e-3),\n",
       "              loss=tf.keras.losses.BinaryCrossentropy(),\n",
       "              metrics=[tf.keras.metrics.BinaryAccuracy(),\n",
       "                       tf.keras.metrics.FalseNegatives()])\n",
       "```\n",
       "\n",
       "Args:\n",
       "    optimizer: String (name of optimizer) or optimizer instance. See\n",
       "      `tf.keras.optimizers`.\n",
       "    loss: Loss function. May be a string (name of loss function), or\n",
       "      a `tf.keras.losses.Loss` instance. See `tf.keras.losses`. A loss\n",
       "      function is any callable with the signature `loss = fn(y_true,\n",
       "      y_pred)`, where `y_true` are the ground truth values, and\n",
       "      `y_pred` are the model's predictions.\n",
       "      `y_true` should have shape\n",
       "      `(batch_size, d0, .. dN)` (except in the case of\n",
       "      sparse loss functions such as\n",
       "      sparse categorical crossentropy which expects integer arrays of\n",
       "      shape `(batch_size, d0, .. dN-1)`).\n",
       "      `y_pred` should have shape `(batch_size, d0, .. dN)`.\n",
       "      The loss function should return a float tensor.\n",
       "      If a custom `Loss` instance is\n",
       "      used and reduction is set to `None`, return value has shape\n",
       "      `(batch_size, d0, .. dN-1)` i.e. per-sample or per-timestep loss\n",
       "      values; otherwise, it is a scalar. If the model has multiple\n",
       "      outputs, you can use a different loss on each output by passing a\n",
       "      dictionary or a list of losses. The loss value that will be\n",
       "      minimized by the model will then be the sum of all individual\n",
       "      losses, unless `loss_weights` is specified.\n",
       "    metrics: List of metrics to be evaluated by the model during\n",
       "      training and testing. Each of this can be a string (name of a\n",
       "      built-in function), function or a `tf.keras.metrics.Metric`\n",
       "      instance. See `tf.keras.metrics`. Typically you will use\n",
       "      `metrics=['accuracy']`.\n",
       "      A function is any callable with the signature `result = fn(y_true,\n",
       "      y_pred)`. To specify different metrics for different outputs of a\n",
       "      multi-output model, you could also pass a dictionary, such as\n",
       "      `metrics={'output_a':'accuracy', 'output_b':['accuracy', 'mse']}`.\n",
       "      You can also pass a list to specify a metric or a list of metrics\n",
       "      for each output, such as\n",
       "      `metrics=[['accuracy'], ['accuracy', 'mse']]`\n",
       "      or `metrics=['accuracy', ['accuracy', 'mse']]`. When you pass the\n",
       "      strings 'accuracy' or 'acc', we convert this to one of\n",
       "      `tf.keras.metrics.BinaryAccuracy`,\n",
       "      `tf.keras.metrics.CategoricalAccuracy`,\n",
       "      `tf.keras.metrics.SparseCategoricalAccuracy` based on the loss\n",
       "      function used and the model output shape. We do a similar\n",
       "      conversion for the strings 'crossentropy' and 'ce' as well.\n",
       "      The metrics passed here are evaluated without sample weighting; if\n",
       "      you would like sample weighting to apply, you can specify your\n",
       "      metrics via the `weighted_metrics` argument instead.\n",
       "    loss_weights: Optional list or dictionary specifying scalar\n",
       "      coefficients (Python floats) to weight the loss contributions of\n",
       "      different model outputs. The loss value that will be minimized by\n",
       "      the model will then be the *weighted sum* of all individual\n",
       "      losses, weighted by the `loss_weights` coefficients.  If a list,\n",
       "      it is expected to have a 1:1 mapping to the model's outputs. If a\n",
       "      dict, it is expected to map output names (strings) to scalar\n",
       "      coefficients.\n",
       "    weighted_metrics: List of metrics to be evaluated and weighted by\n",
       "      `sample_weight` or `class_weight` during training and testing.\n",
       "    run_eagerly: Bool. Defaults to `False`. If `True`, this `Model`'s\n",
       "      logic will not be wrapped in a `tf.function`. Recommended to leave\n",
       "      this as `None` unless your `Model` cannot be run inside a\n",
       "      `tf.function`. `run_eagerly=True` is not supported when using\n",
       "      `tf.distribute.experimental.ParameterServerStrategy`.\n",
       "    steps_per_execution: Int. Defaults to 1. The number of batches to\n",
       "      run during each `tf.function` call. Running multiple batches\n",
       "      inside a single `tf.function` call can greatly improve performance\n",
       "      on TPUs or small models with a large Python overhead. At most, one\n",
       "      full epoch will be run each execution. If a number larger than the\n",
       "      size of the epoch is passed, the execution will be truncated to\n",
       "      the size of the epoch. Note that if `steps_per_execution` is set\n",
       "      to `N`, `Callback.on_batch_begin` and `Callback.on_batch_end`\n",
       "      methods will only be called every `N` batches (i.e. before/after\n",
       "      each `tf.function` execution).\n",
       "    jit_compile: If `True`, compile the model training step with XLA.\n",
       "      [XLA](https://www.tensorflow.org/xla) is an optimizing compiler\n",
       "      for machine learning.\n",
       "      `jit_compile` is not enabled for by default.\n",
       "      This option cannot be enabled with `run_eagerly=True`.\n",
       "      Note that `jit_compile=True`\n",
       "      may not necessarily work for all models.\n",
       "      For more information on supported operations please refer to the\n",
       "      [XLA documentation](https://www.tensorflow.org/xla).\n",
       "      Also refer to\n",
       "      [known XLA issues](https://www.tensorflow.org/xla/known_issues)\n",
       "      for more details.\n",
       "    **kwargs: Arguments supported for backwards compatibility only.\n",
       "\u001b[1;31mFile:\u001b[0m      c:\\users\\dell\\anaconda3\\envs\\test\\lib\\site-packages\\keras\\engine\\training.py\n",
       "\u001b[1;31mType:\u001b[0m      method"
      ]
     },
     "metadata": {},
     "output_type": "display_data"
    }
   ],
   "source": [
    "ann.compile?"
   ]
  },
  {
   "cell_type": "code",
   "execution_count": 30,
   "id": "cc4820dc-5dca-457a-b757-a71e6c69ca1b",
   "metadata": {},
   "outputs": [],
   "source": [
    "ann.compile(optimizer='adam',loss ='binary_crossentropy',metrics = ['accuracy'] )"
   ]
  },
  {
   "cell_type": "code",
   "execution_count": null,
   "id": "44f8b28f-81cf-4698-a0ac-f38ad08448cf",
   "metadata": {},
   "outputs": [
    {
     "name": "stdout",
     "output_type": "stream",
     "text": [
      "Epoch 1/100\n",
      "250/250 [==============================] - 3s 4ms/step - loss: 0.5765 - accuracy: 0.7799\n",
      "Epoch 2/100\n",
      "250/250 [==============================] - 1s 4ms/step - loss: 0.4751 - accuracy: 0.7960\n",
      "Epoch 3/100\n",
      "250/250 [==============================] - 1s 4ms/step - loss: 0.4538 - accuracy: 0.7960\n",
      "Epoch 4/100\n",
      "250/250 [==============================] - 1s 4ms/step - loss: 0.4420 - accuracy: 0.7960\n",
      "Epoch 5/100\n",
      "250/250 [==============================] - 1s 4ms/step - loss: 0.4318 - accuracy: 0.7966\n",
      "Epoch 6/100\n",
      "250/250 [==============================] - 1s 4ms/step - loss: 0.4166 - accuracy: 0.8186\n",
      "Epoch 7/100\n",
      "250/250 [==============================] - 1s 4ms/step - loss: 0.3968 - accuracy: 0.8332\n",
      "Epoch 8/100\n",
      "250/250 [==============================] - 1s 4ms/step - loss: 0.3797 - accuracy: 0.8382\n",
      "Epoch 9/100\n",
      "250/250 [==============================] - 1s 3ms/step - loss: 0.3693 - accuracy: 0.8425\n",
      "Epoch 10/100\n",
      "250/250 [==============================] - 1s 4ms/step - loss: 0.3642 - accuracy: 0.8469\n",
      "Epoch 11/100\n",
      "250/250 [==============================] - 1s 4ms/step - loss: 0.3616 - accuracy: 0.8490\n",
      "Epoch 12/100\n",
      "250/250 [==============================] - 1s 3ms/step - loss: 0.3596 - accuracy: 0.8487\n",
      "Epoch 13/100\n",
      "250/250 [==============================] - 1s 4ms/step - loss: 0.3582 - accuracy: 0.8512\n",
      "Epoch 14/100\n",
      "250/250 [==============================] - 1s 4ms/step - loss: 0.3561 - accuracy: 0.8515\n",
      "Epoch 15/100\n",
      "250/250 [==============================] - 1s 4ms/step - loss: 0.3545 - accuracy: 0.8541\n",
      "Epoch 16/100\n",
      "250/250 [==============================] - 1s 4ms/step - loss: 0.3536 - accuracy: 0.8547\n",
      "Epoch 17/100\n",
      "250/250 [==============================] - 1s 4ms/step - loss: 0.3525 - accuracy: 0.8540\n",
      "Epoch 18/100\n",
      "250/250 [==============================] - 1s 4ms/step - loss: 0.3516 - accuracy: 0.8544\n",
      "Epoch 19/100\n",
      "250/250 [==============================] - 1s 4ms/step - loss: 0.3501 - accuracy: 0.8565\n",
      "Epoch 20/100\n",
      "250/250 [==============================] - 1s 5ms/step - loss: 0.3495 - accuracy: 0.8561\n",
      "Epoch 21/100\n",
      "250/250 [==============================] - 1s 5ms/step - loss: 0.3484 - accuracy: 0.8580\n",
      "Epoch 22/100\n",
      "250/250 [==============================] - 1s 4ms/step - loss: 0.3475 - accuracy: 0.8571\n",
      "Epoch 23/100\n",
      "250/250 [==============================] - 1s 4ms/step - loss: 0.3467 - accuracy: 0.8583\n",
      "Epoch 24/100\n",
      "250/250 [==============================] - 1s 4ms/step - loss: 0.3459 - accuracy: 0.8591\n",
      "Epoch 25/100\n",
      "250/250 [==============================] - 1s 4ms/step - loss: 0.3454 - accuracy: 0.8590\n",
      "Epoch 26/100\n",
      "250/250 [==============================] - 1s 4ms/step - loss: 0.3448 - accuracy: 0.8601\n",
      "Epoch 27/100\n",
      "250/250 [==============================] - 1s 4ms/step - loss: 0.3440 - accuracy: 0.8593\n",
      "Epoch 28/100\n",
      "250/250 [==============================] - 1s 4ms/step - loss: 0.3434 - accuracy: 0.8610\n",
      "Epoch 29/100\n",
      "250/250 [==============================] - 1s 4ms/step - loss: 0.3426 - accuracy: 0.8615\n",
      "Epoch 30/100\n",
      "250/250 [==============================] - 1s 4ms/step - loss: 0.3423 - accuracy: 0.8624\n",
      "Epoch 31/100\n",
      "250/250 [==============================] - 1s 4ms/step - loss: 0.3417 - accuracy: 0.8616\n",
      "Epoch 32/100\n",
      "250/250 [==============================] - 1s 4ms/step - loss: 0.3413 - accuracy: 0.8618\n",
      "Epoch 33/100\n",
      "250/250 [==============================] - 1s 4ms/step - loss: 0.3409 - accuracy: 0.8621\n",
      "Epoch 34/100\n",
      "250/250 [==============================] - 1s 4ms/step - loss: 0.3402 - accuracy: 0.8610\n",
      "Epoch 35/100\n",
      "250/250 [==============================] - 1s 4ms/step - loss: 0.3398 - accuracy: 0.8627\n",
      "Epoch 36/100\n",
      "250/250 [==============================] - 1s 4ms/step - loss: 0.3395 - accuracy: 0.8620\n",
      "Epoch 37/100\n",
      "250/250 [==============================] - 1s 4ms/step - loss: 0.3391 - accuracy: 0.8618\n",
      "Epoch 38/100\n",
      "250/250 [==============================] - 1s 4ms/step - loss: 0.3383 - accuracy: 0.8634\n",
      "Epoch 39/100\n",
      "250/250 [==============================] - 1s 4ms/step - loss: 0.3377 - accuracy: 0.8631\n",
      "Epoch 40/100\n",
      "250/250 [==============================] - 1s 4ms/step - loss: 0.3374 - accuracy: 0.8651\n",
      "Epoch 41/100\n",
      "250/250 [==============================] - 1s 4ms/step - loss: 0.3372 - accuracy: 0.8633\n",
      "Epoch 42/100\n",
      "250/250 [==============================] - 1s 4ms/step - loss: 0.3364 - accuracy: 0.8631\n",
      "Epoch 43/100\n",
      "250/250 [==============================] - 1s 4ms/step - loss: 0.3366 - accuracy: 0.8621\n",
      "Epoch 44/100\n",
      "250/250 [==============================] - 1s 4ms/step - loss: 0.3366 - accuracy: 0.8626\n",
      "Epoch 45/100\n",
      "250/250 [==============================] - 1s 5ms/step - loss: 0.3362 - accuracy: 0.8644\n",
      "Epoch 46/100\n",
      "250/250 [==============================] - 1s 4ms/step - loss: 0.3356 - accuracy: 0.8637\n",
      "Epoch 47/100\n",
      "250/250 [==============================] - 1s 4ms/step - loss: 0.3353 - accuracy: 0.8636\n",
      "Epoch 48/100\n",
      "250/250 [==============================] - 1s 4ms/step - loss: 0.3346 - accuracy: 0.8636\n",
      "Epoch 49/100\n",
      "250/250 [==============================] - 1s 4ms/step - loss: 0.3346 - accuracy: 0.8639\n",
      "Epoch 50/100\n",
      "250/250 [==============================] - 1s 4ms/step - loss: 0.3350 - accuracy: 0.8636\n",
      "Epoch 51/100\n",
      "250/250 [==============================] - 1s 4ms/step - loss: 0.3346 - accuracy: 0.8646\n",
      "Epoch 52/100\n",
      "250/250 [==============================] - 1s 4ms/step - loss: 0.3346 - accuracy: 0.8651\n",
      "Epoch 53/100\n",
      "250/250 [==============================] - 1s 4ms/step - loss: 0.3334 - accuracy: 0.8656\n",
      "Epoch 54/100\n",
      "250/250 [==============================] - 1s 4ms/step - loss: 0.3338 - accuracy: 0.8652\n",
      "Epoch 55/100\n",
      "250/250 [==============================] - 1s 4ms/step - loss: 0.3335 - accuracy: 0.8644\n",
      "Epoch 56/100\n",
      "250/250 [==============================] - 1s 4ms/step - loss: 0.3336 - accuracy: 0.8629\n",
      "Epoch 57/100\n",
      "201/250 [=======================>......] - ETA: 0s - loss: 0.3275 - accuracy: 0.8705"
     ]
    }
   ],
   "source": [
    "ann.fit(x_train,y_train,batch_size=32,epochs =100)"
   ]
  },
  {
   "cell_type": "code",
   "execution_count": null,
   "id": "aef14f79-c373-459e-8c21-8f2107a3c800",
   "metadata": {},
   "outputs": [],
   "source": [
    "print(ann.predict(sc.transform([[ 1, 0, 0, 600, 1, 40, 3, 60000, 2, 1, 1, 50000]]))> 0.5)"
   ]
  },
  {
   "cell_type": "code",
   "execution_count": null,
   "id": "8cc07196-ddda-4579-8f43-9cd4e32d8210",
   "metadata": {},
   "outputs": [],
   "source": [
    " y_pred=ann.predict(x_test)\n",
    " y_pred=(y_pred>0.5)\n",
    " print(np.concatenate((y_pred.reshape(len(y_pred),1),y_test.reshape(len(y_test),1)),1))"
   ]
  },
  {
   "cell_type": "code",
   "execution_count": null,
   "id": "f351cf2a-e4a6-4e7e-b68a-e59b6d81b8b0",
   "metadata": {},
   "outputs": [],
   "source": [
    "# making the confusion matrix\n",
    "from sklearn.metrics import confusion_matrix,accuracy_score\n",
    "cm=confusion_matrix(y_test, y_pred)\n",
    "print(cm)\n",
    "accuracy_score(y_test,y_pred)"
   ]
  }
 ],
 "metadata": {
  "kernelspec": {
   "display_name": "Python 3 (ipykernel)",
   "language": "python",
   "name": "python3"
  },
  "language_info": {
   "codemirror_mode": {
    "name": "ipython",
    "version": 3
   },
   "file_extension": ".py",
   "mimetype": "text/x-python",
   "name": "python",
   "nbconvert_exporter": "python",
   "pygments_lexer": "ipython3",
   "version": "3.8.15"
  }
 },
 "nbformat": 4,
 "nbformat_minor": 5
}
